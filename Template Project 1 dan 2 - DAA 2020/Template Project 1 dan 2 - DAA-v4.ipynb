{
 "cells": [
  {
   "cell_type": "markdown",
   "metadata": {},
   "source": [
    "--------------------------------\n",
    "<img src=\"img/header1.png\"></img>\n",
    "<h2 style=\"text-align: left;\">Project 1 MK DAA Filkom UB (Scraping) Sem. Genap Tahun 2020</h2>\n",
    "---------------------------------------------------------"
   ]
  },
  {
   "cell_type": "markdown",
   "metadata": {},
   "source": [
    "<h1 style=\"text-align: center;\">Scraping Kode Algoritma Elemen Unik untuk Analisis Kompleksitas Waktu</h1>\n",
    "<table>\n",
    "<tbody>\n",
    "<table align=\"center\">\n",
    "<tbody>\n",
    "<tr>\n",
    "<td style=\"text-align: left;\">Dosen Pengampu</td>\n",
    "<td style=\"text-align: left;\">:</td>\n",
    "<td style=\"text-align: left;\">Imam Cholissodin, S.Si., M.Kom.</td>\n",
    "</tr>\n",
    "<tr>\n",
    "<td style=\"text-align: left;\">Nama Ketua Kelompok</td>\n",
    "<td style=\"text-align: left;\">:</td>\n",
    "<td style=\"text-align: left;\">Nama (Tugas: Koding bagian Best Case)</td>\n",
    "</tr>\n",
    "<tr>\n",
    "<td style=\"text-align: left;\">Nama Anggota 1</td>\n",
    "<td style=\"text-align: left;\">:</td>\n",
    "<td style=\"text-align: left;\">Nama</td>\n",
    "</tr>\n",
    "<tr>\n",
    "<td style=\"text-align: left;\">Nama Anggota 2</td>\n",
    "<td style=\"text-align: left;\">:</td>\n",
    "<td style=\"text-align: left;\">Nama</td>\n",
    "</tr>\n",
    "<tr>\n",
    "<td style=\"text-align: left;\">Kelompok &  Kelas</td>\n",
    "<td style=\"text-align: left;\">:</td>\n",
    "<td style=\"text-align: left;\">[..]-[..]</td>\n",
    "</tr>\n",
    "</tbody>\n",
    "</table>\n",
    "<p>&nbsp;</p>"
   ]
  },
  {
   "cell_type": "markdown",
   "metadata": {},
   "source": [
    "### 1. Latar Belakang"
   ]
  },
  {
   "cell_type": "markdown",
   "metadata": {},
   "source": [
    "..Ceritakan knp perlu melakukan analisis kompleksitas waktu (T(n) atau C(n)) --> -+ 450 kata\n",
    "\n",
    "\n",
    "\n",
    "\n",
    "\n",
    "\n"
   ]
  },
  {
   "cell_type": "code",
   "execution_count": 1,
   "metadata": {},
   "outputs": [
    {
     "name": "stdout",
     "output_type": "stream",
     "text": [
      "Overwriting DAA2020.java\n"
     ]
    }
   ],
   "source": [
    "%%file DAA2020.java\n",
    "import java.util.Random;\n",
    "\n",
    "/**\n",
    " *\n",
    " * @author ImamCS\n",
    " */\n",
    "public class DAA2020 {\n",
    "\n",
    "    public static boolean uniqueElement(int A[]) {\n",
    "        int n = A.length;\n",
    "        for (int i = 0; i <= n - 2; i++) {\n",
    "            for (int j = i + 1; j <= n - 1; j++) {\n",
    "                if (A[i] == A[j]) {\n",
    "                    return false;\n",
    "                }\n",
    "            }\n",
    "        }\n",
    "        return true;\n",
    "    }\n",
    "\n",
    "    /**\n",
    "     * @param args the command line arguments\n",
    "     */\n",
    "    public static void main(String[] args) {        \n",
    "        //int A[]  = {9,87,52,3,33,58,74,57,89,57,48,61,33,83,28};\n",
    "        int A[]  = {6,9,12,58,39,10,53,82,90};\n",
    "        \n",
    "        System.out.println(\"Cek keunikan = \"+uniqueElement(A));\n",
    "    }\n",
    "}"
   ]
  },
  {
   "cell_type": "code",
   "execution_count": 2,
   "metadata": {},
   "outputs": [
    {
     "name": "stdout",
     "output_type": "stream",
     "text": [
      " Volume in drive C has no label.\n",
      " Volume Serial Number is 74EF-77F8\n",
      "\n",
      " Directory of C:\\Users\\Imacho\\Project DAA 2020\n",
      "\n",
      "02/11/2020  02:05 PM    <DIR>          .\n",
      "02/11/2020  02:05 PM    <DIR>          ..\n",
      "02/10/2020  07:59 AM    <DIR>          .ipynb_checkpoints\n",
      "02/10/2020  08:47 AM               874 DAA2020.class\n",
      "02/11/2020  02:05 PM               730 DAA2020.java\n",
      "02/10/2020  08:02 AM    <DIR>          img\n",
      "02/11/2020  02:05 PM            40,667 Template Project 1 dan 2 - DAA-v3.ipynb\n",
      "02/10/2020  08:48 AM             1,036 Unik.jar\n",
      "               4 File(s)         43,307 bytes\n",
      "               4 Dir(s)  12,958,089,216 bytes free\n"
     ]
    }
   ],
   "source": [
    "# install dulu GNU on Windows (GoW)\n",
    "#!ls  \n",
    "!dir"
   ]
  },
  {
   "cell_type": "code",
   "execution_count": 10,
   "metadata": {},
   "outputs": [],
   "source": [
    "!rm *.jar"
   ]
  },
  {
   "cell_type": "code",
   "execution_count": 11,
   "metadata": {},
   "outputs": [
    {
     "name": "stdout",
     "output_type": "stream",
     "text": [
      "DAA2020.java\n",
      "img\n",
      "Template Project 1 dan 2 - DAA-v3.ipynb\n"
     ]
    }
   ],
   "source": [
    "!ls"
   ]
  },
  {
   "cell_type": "code",
   "execution_count": 6,
   "metadata": {},
   "outputs": [
    {
     "name": "stderr",
     "output_type": "stream",
     "text": [
      "java version \"1.8.0_101\"\n",
      "Java(TM) SE Runtime Environment (build 1.8.0_101-b13)\n",
      "Java HotSpot(TM) 64-Bit Server VM (build 25.101-b13, mixed mode)\n"
     ]
    }
   ],
   "source": [
    "!java -version"
   ]
  },
  {
   "cell_type": "code",
   "execution_count": 12,
   "metadata": {},
   "outputs": [],
   "source": [
    "#compile file *.java\n",
    "!javac -cp ;lib.jar *.java"
   ]
  },
  {
   "cell_type": "code",
   "execution_count": 13,
   "metadata": {},
   "outputs": [
    {
     "name": "stdout",
     "output_type": "stream",
     "text": [
      " Volume in drive C has no label.\n",
      " Volume Serial Number is 74EF-77F8\n",
      "\n",
      " Directory of C:\\Users\\Imacho\\Project DAA 2020\n",
      "\n",
      "02/11/2020  02:30 PM    <DIR>          .\n",
      "02/11/2020  02:30 PM    <DIR>          ..\n",
      "02/10/2020  07:59 AM    <DIR>          .ipynb_checkpoints\n",
      "02/11/2020  02:30 PM               874 DAA2020.class\n",
      "02/11/2020  02:05 PM               730 DAA2020.java\n",
      "02/10/2020  08:02 AM    <DIR>          img\n",
      "02/11/2020  02:23 PM            41,855 Template Project 1 dan 2 - DAA-v3.ipynb\n",
      "               3 File(s)         43,459 bytes\n",
      "               4 Dir(s)  12,956,549,120 bytes free\n"
     ]
    }
   ],
   "source": [
    "!dir"
   ]
  },
  {
   "cell_type": "code",
   "execution_count": 14,
   "metadata": {},
   "outputs": [
    {
     "name": "stdout",
     "output_type": "stream",
     "text": [
      "added manifest\n",
      "adding: DAA2020.class(in = 874) (out= 576)(deflated 34%)\n"
     ]
    }
   ],
   "source": [
    "!jar cvf Unik.jar *.class"
   ]
  },
  {
   "cell_type": "code",
   "execution_count": 15,
   "metadata": {},
   "outputs": [
    {
     "name": "stdout",
     "output_type": "stream",
     "text": [
      "Cek keunikan = true\n"
     ]
    }
   ],
   "source": [
    "# cara running \n",
    "!java -cp Unik.jar DAA2020"
   ]
  },
  {
   "cell_type": "markdown",
   "metadata": {},
   "source": [
    "# Retrieving For..."
   ]
  },
  {
   "cell_type": "code",
   "execution_count": 16,
   "metadata": {},
   "outputs": [
    {
     "name": "stdout",
     "output_type": "stream",
     "text": [
      "DAA2020.java\n",
      "['        for (int i = 0; i <= n - 2; i++) {\\n', '            for (int j = i + 1; j <= n - 1; j++) {\\n']\n"
     ]
    }
   ],
   "source": [
    "lines_FOR = []\n",
    "namefile='DAA2020.java'\n",
    "print(namefile)\n",
    "for line in open(namefile):\n",
    "    if \"for\" in line:\n",
    "        lines_FOR.append(line)\n",
    "\n",
    "print(lines_FOR)"
   ]
  },
  {
   "cell_type": "code",
   "execution_count": 17,
   "metadata": {},
   "outputs": [
    {
     "name": "stdout",
     "output_type": "stream",
     "text": [
      "banyak for = 2\n"
     ]
    }
   ],
   "source": [
    "#hitung banyak for\n",
    "print('banyak for =',len(lines_FOR))"
   ]
  },
  {
   "cell_type": "code",
   "execution_count": 18,
   "metadata": {},
   "outputs": [
    {
     "name": "stdout",
     "output_type": "stream",
     "text": [
      "['i=0', 'i<=n-2', 'i++){\\n']\n"
     ]
    }
   ],
   "source": [
    "lineParts = lines_FOR[0].replace(\" \", \"\").replace(\"for(int\",\"\").split(';')\n",
    "print(lineParts)"
   ]
  },
  {
   "cell_type": "code",
   "execution_count": 19,
   "metadata": {},
   "outputs": [
    {
     "name": "stdout",
     "output_type": "stream",
     "text": [
      "['j=i+1', 'j<=n-1', 'j++){\\n']\n"
     ]
    }
   ],
   "source": [
    "lineParts = lines_FOR[1].replace(\" \", \"\").replace(\"for(int\",\"\").split(';')\n",
    "print(lineParts)"
   ]
  },
  {
   "cell_type": "code",
   "execution_count": 20,
   "metadata": {},
   "outputs": [
    {
     "name": "stdout",
     "output_type": "stream",
     "text": [
      "Retrieving FOR\n",
      "get indeks =  ['i', 'j']\n",
      "get batas bawah =  ['0', 'i+1']\n",
      "get batas atas =  ['n-2', 'n-1']\n"
     ]
    }
   ],
   "source": [
    "counter = []\n",
    "list_FOR_index = []\n",
    "list_FOR_lower = []\n",
    "list_FOR_upper = []\n",
    "\n",
    "print('Retrieving FOR')\n",
    "for i in range(len(lines_FOR)):\n",
    "    lineParts = lines_FOR[i].replace(\" \", \"\").replace(\"for(int\",\"\").split(';')\n",
    "    counter.append(i+1)\n",
    "    list_FOR_index.append(lineParts[0].split('=')[0])\n",
    "    list_FOR_lower.append(lineParts[0].split('=')[1])\n",
    "    list_FOR_upper.append(lineParts[1].split('=')[1])\n",
    "\n",
    "# print list\n",
    "print('get indeks = ',list_FOR_index)\n",
    "print('get batas bawah = ', list_FOR_lower)\n",
    "print('get batas atas = ',list_FOR_upper)"
   ]
  },
  {
   "cell_type": "code",
   "execution_count": null,
   "metadata": {},
   "outputs": [],
   "source": [
    "# Case Study ke-1\n",
    "# Export / Ubah hasil dari \"list_FOR_index\", \"list_FOR_lower\", dan \"list_FOR_upper\"\n",
    "# menjadi seperti \"cn = 'C(n) = \\sum_{i = 0}^{n-1} \\sum_{j = i+1}^{n-2} 1'\"\n",
    "# \n",
    "# Koding disini .."
   ]
  },
  {
   "cell_type": "code",
   "execution_count": null,
   "metadata": {},
   "outputs": [],
   "source": []
  },
  {
   "cell_type": "code",
   "execution_count": null,
   "metadata": {},
   "outputs": [],
   "source": []
  },
  {
   "cell_type": "code",
   "execution_count": 8,
   "metadata": {},
   "outputs": [
    {
     "name": "stdout",
     "output_type": "stream",
     "text": [
      "C(n) = \\sum_{i = 1}^{5} 1\n"
     ]
    },
    {
     "data": {
      "text/latex": [
       "$\\displaystyle C(n) = \\sum_{i = 1}^{5} 1$"
      ],
      "text/plain": [
       "<IPython.core.display.Math object>"
      ]
     },
     "metadata": {},
     "output_type": "display_data"
    },
    {
     "name": "stdout",
     "output_type": "stream",
     "text": [
      "Get indeks dlm sigma =  i\n"
     ]
    }
   ],
   "source": [
    "# Misal buat koding untuk generate dalam bentuk uraian dari sigma\n",
    "# Contoh, \n",
    "from IPython.display import display, Math, Latex\n",
    "cn = 'C(n) = \\sum_{i = 1}^{5} 1'\n",
    "print(cn)\n",
    "\n",
    "display(Math(cn))\n",
    "\n",
    "# Soal 1: Buat koding untuk get indeks dalam sigma\n",
    "# koding disini ..\n",
    "# jawabannya (i)\n",
    "\n",
    "print('Get indeks dlm sigma = ',cn.replace(\" \",\"\").split('=')[1].split('{')[1])\n",
    "\n",
    "# Soal 2: Cek didalam sigma apakah ada index yang sedang dijalankan \"i\"\n",
    "# Jawabannya (0 = false, 1 = true)\n",
    "# Koding disini ..\n",
    "# jawabannya (0 = false)\n",
    "\n",
    "# Soal 3: Coba uraian menjadi \n",
    "# C(n) = 1 + 1 + 1 + 1 + 1 ==> jawabannya\n",
    "# Artinya 1 dijumlahkan sebanyak 5 kali\n",
    "# koding disini ..\n"
   ]
  },
  {
   "cell_type": "code",
   "execution_count": null,
   "metadata": {},
   "outputs": [],
   "source": []
  },
  {
   "cell_type": "code",
   "execution_count": null,
   "metadata": {},
   "outputs": [],
   "source": []
  },
  {
   "cell_type": "code",
   "execution_count": null,
   "metadata": {},
   "outputs": [],
   "source": []
  },
  {
   "cell_type": "code",
   "execution_count": 21,
   "metadata": {},
   "outputs": [
    {
     "name": "stdout",
     "output_type": "stream",
     "text": [
      "C(n) = \\sum_{i = 0}^{n-1} \\sum_{j = i+1}^{n-2} 1\n"
     ]
    },
    {
     "data": {
      "text/latex": [
       "$\\displaystyle C(n) = \\sum_{i = 0}^{n-1} \\sum_{j = i+1}^{n-2} 1$"
      ],
      "text/plain": [
       "<IPython.core.display.Math object>"
      ]
     },
     "metadata": {},
     "output_type": "display_data"
    }
   ],
   "source": [
    "#%%capture cap --no-stderr\n",
    "from IPython.display import display, Math, Latex\n",
    "cn = 'C(n) = \\sum_{i = 0}^{n-1} \\sum_{j = i+1}^{n-2} 1'\n",
    "print(cn)\n",
    "\n",
    "display(Math(cn))"
   ]
  },
  {
   "cell_type": "code",
   "execution_count": 53,
   "metadata": {},
   "outputs": [],
   "source": [
    "#with open('output.txt', 'w') as f:\n",
    "#     f.write(cap.stdout)"
   ]
  },
  {
   "cell_type": "code",
   "execution_count": 55,
   "metadata": {},
   "outputs": [
    {
     "name": "stdout",
     "output_type": "stream",
     "text": [
      "C(n) = \\sum_{i = 0}^{n-1} \\sum_{j = i+1}^{n-2} 1\n"
     ]
    }
   ],
   "source": [
    "!cat output.txt"
   ]
  },
  {
   "cell_type": "code",
   "execution_count": 2,
   "metadata": {},
   "outputs": [
    {
     "data": {
      "text/latex": [
       "$\\displaystyle \\begin{equation*} \\\n",
       "\\frac{1}{\\Bigl(\\sqrt{\\phi \\sqrt{5}}-\\phi\\Bigr) e^{\\frac25 \\pi}} = \\\n",
       "1+\\frac{e^{-2\\pi}} {1+\\frac{e^{-4\\pi}} {1+\\frac{e^{-6\\pi}} \\\n",
       "{1+\\frac{e^{-8\\pi}} {1+\\ldots} } } } \\\n",
       "\\end{equation*}$"
      ],
      "text/plain": [
       "<IPython.core.display.Math object>"
      ]
     },
     "metadata": {},
     "output_type": "display_data"
    }
   ],
   "source": [
    "# Contoh\n",
    "from IPython.display import display, Math, Latex\n",
    "display(Math(r'\\begin{equation*} \\\n",
    "\\frac{1}{\\Bigl(\\sqrt{\\phi \\sqrt{5}}-\\phi\\Bigr) e^{\\frac25 \\pi}} = \\\n",
    "1+\\frac{e^{-2\\pi}} {1+\\frac{e^{-4\\pi}} {1+\\frac{e^{-6\\pi}} \\\n",
    "{1+\\frac{e^{-8\\pi}} {1+\\ldots} } } } \\\n",
    "\\end{equation*}'))\n"
   ]
  },
  {
   "cell_type": "code",
   "execution_count": 6,
   "metadata": {},
   "outputs": [
    {
     "data": {
      "text/latex": [
       "$\\displaystyle \\begin{equation*} \\\n",
       "\\left( \\sum_{k=1}^n a_k b_k \\right)^2 \\leq \\left( \\sum_{k=1}^n a_k^2 \\right) \\left( \\sum_{k=1}^n b_k^2 \\right) \\\n",
       "\\end{equation*}$"
      ],
      "text/plain": [
       "<IPython.core.display.Math object>"
      ]
     },
     "metadata": {},
     "output_type": "display_data"
    }
   ],
   "source": [
    "# Contoh\n",
    "display(Math(r'\\begin{equation*} \\\n",
    "\\left( \\sum_{k=1}^n a_k b_k \\right)^2 \\leq \\left( \\sum_{k=1}^n a_k^2 \\right) \\left( \\sum_{k=1}^n b_k^2 \\right) \\\n",
    "\\end{equation*}'))"
   ]
  },
  {
   "cell_type": "code",
   "execution_count": 14,
   "metadata": {},
   "outputs": [
    {
     "data": {
      "text/latex": [
       "$\\displaystyle \\begin{equation*} \\\n",
       "\\lim_{n\\to\\infty} \\frac{T_1(n)}{T_2(n)} \\\n",
       "\\end{equation*}$"
      ],
      "text/plain": [
       "<IPython.core.display.Math object>"
      ]
     },
     "metadata": {},
     "output_type": "display_data"
    }
   ],
   "source": [
    "display(Math(r'\\begin{equation*} \\\n",
    "\\lim_{n\\to\\infty} \\frac{T_1(n)}{T_2(n)} \\\n",
    "\\end{equation*}'))"
   ]
  },
  {
   "cell_type": "markdown",
   "metadata": {},
   "source": [
    "## Tugas Pertemuan Ke-5"
   ]
  },
  {
   "cell_type": "code",
   "execution_count": 50,
   "metadata": {},
   "outputs": [
    {
     "data": {
      "image/png": "[encoded data removed]",
      "text/plain": [
       "<Figure size 432x288 with 1 Axes>"
      ]
     },
     "metadata": {
      "needs_background": "light"
     },
     "output_type": "display_data"
    }
   ],
   "source": [
    "# Soal Ke-1\n",
    "# buatlah dalam grafik yang berisi dari beberapa kelas Orde of Growh berikut\n",
    "# 1. C (Konstanta)\n",
    "# 2. logN (logarithmic)\n",
    "# 3. N (linear)\n",
    "# 4. NlogN\n",
    "# 5. N^2 (quadratic)\n",
    "# 6. N(N-1)/2 (quadratic)\n",
    "# 7. N^3 (cubic)\n",
    "# 8. 2^N (exponential)\n",
    "# 9. N! (factorial)\n",
    "\n",
    "# lengkapi koding berikut dengan warna line bebas, beserta label legend-nya:\n",
    "from matplotlib import pyplot as plt\n",
    "import math \n",
    "\n",
    "n=list(range(1,5))\n",
    "fig = plt.figure()\n",
    "plt.plot(n, [math.log(x,2) for x in n], 'g.-', label='logN') # logN\n",
    "plt.plot(n, n, 'b.-', label='N') # N\n",
    "plt.plot(n, [x*math.log(x,2) for x in n], 'b.-') # NlogN\n",
    "plt.plot(n, [x*x for x in n], 'r.-') # N^2\n",
    "plt.plot(n, [x*x*x for x in n], 'r.-') # N^3\n",
    "plt.plot(n, [math.pow(2,x) for x in n], 'r.-') # 2^N\n",
    "plt.plot(n, [math.factorial(x) for x in n], 'r.-') # N!\n",
    "\n",
    "plt.xlabel('Banyak Data (N)')\n",
    "plt.ylabel('Waktu Komputasi')\n",
    "plt.legend(loc=\"upper left\")\n",
    "plt.show()"
   ]
  },
  {
   "cell_type": "code",
   "execution_count": 75,
   "metadata": {},
   "outputs": [
    {
     "name": "stdout",
     "output_type": "stream",
     "text": [
      "['1', '2', '3', '4', '5', '6', '7', '8', '9', '10']\n",
      "suku ke-1 =  1\n",
      "suku ke-n =  10\n",
      "\n",
      "\n",
      "['1', '2', '3', '4', '5', '6', '7', '8', '9', '10']  merupakan deret Aritmatika\n"
     ]
    }
   ],
   "source": [
    "# Soal Ke-2\n",
    "# Buatlah koding untuk Identifikasi deret, misal \n",
    "# deret ='1,2,3,4,5,6,7,8,9,10'\n",
    "\n",
    "# Contoh koding cekDeretAritmatika:\n",
    "deret='1,2,3,4,5,6,7,8,9,10'\n",
    "\n",
    "deret=deret.split(',')\n",
    "print(deret)\n",
    "print('suku ke-1 = ',deret[0])\n",
    "print('suku ke-n = ',deret[-1])\n",
    "print()\n",
    "\n",
    "# fungsi cekDeretAritmatika:\n",
    "def cekDeretAritmatika(deret_in):\n",
    "    get_a = int(deret_in[0])\n",
    "    get_Un = int(deret_in[-1])\n",
    "    get_b = int(deret_in[1])-int(deret_in[0])\n",
    "    #print('beda =',get_b)\n",
    "    \n",
    "    flag = 1\n",
    "    for i in range(2,len(deret)):\n",
    "        #print(deret_in[i],'-',deret_in[i-1]);\n",
    "        if(int(deret_in[i])-int(deret_in[i-1])!=get_b):\n",
    "            flag=0;\n",
    "    print()\n",
    "    \n",
    "    return flag\n",
    "\n",
    "# coba cek dengan fungsi cekDeretAritmatika\n",
    "if (cekDeretAritmatika(deret)==1):\n",
    "    print(deret,' merupakan deret Aritmatika');\n",
    "else:\n",
    "    print(deret,' bukan deret Aritmatika');\n",
    "\n",
    "# Lanjutkan dengan membuat fungsi cekDeretGeometri\n",
    "# deret='1,2,4,8,16,32,64'\n",
    "# koding disini ..\n",
    "\n",
    "# Lanjutkan dengan membuat fungsi cekDeretAritmatika_N\n",
    "# deret='(n-1),(n-2),(n-3),(n-4),(n-5),(n-6),(n-7)'\n",
    "# koding disini ..\n"
   ]
  },
  {
   "cell_type": "code",
   "execution_count": 23,
   "metadata": {},
   "outputs": [
    {
     "name": "stdout",
     "output_type": "stream",
     "text": [
      "C(n) = \\sum_{i = 1}^{n} 1\n"
     ]
    },
    {
     "data": {
      "text/latex": [
       "$\\displaystyle C(n) = \\sum_{i = 1}^{n} 1$"
      ],
      "text/plain": [
       "<IPython.core.display.Math object>"
      ]
     },
     "metadata": {},
     "output_type": "display_data"
    }
   ],
   "source": [
    "# Soal Ke-3\n",
    "# Contoh koding yang mampu untuk get index, lower, upper dan yg ada \"dalam sigma\", misal dari cn berikut\n",
    "from IPython.display import display, Math, Latex\n",
    "cn = 'C(n) = \\sum_{i = 1}^{n} 1'\n",
    "print(cn)\n",
    "display(Math(cn))\n",
    "\n",
    "\n",
    "# koding disini ..\n",
    "# index = i, lower = 1, upper = n, \"dalam sigma\" = 1"
   ]
  },
  {
   "cell_type": "code",
   "execution_count": 13,
   "metadata": {},
   "outputs": [
    {
     "name": "stdout",
     "output_type": "stream",
     "text": [
      "C(n) = \\sum_{i = 1}^{n} (n-i+1)\n"
     ]
    },
    {
     "data": {
      "text/latex": [
       "$\\displaystyle C(n) = \\sum_{i = 1}^{n} (n-i+1)$"
      ],
      "text/plain": [
       "<IPython.core.display.Math object>"
      ]
     },
     "metadata": {},
     "output_type": "display_data"
    }
   ],
   "source": [
    "# Soal 4: Coba uraian menjadi \n",
    "from IPython.display import display, Math, Latex\n",
    "cn = 'C(n) = \\sum_{i = 1}^{n} (n-i+1)'\n",
    "print(cn)\n",
    "display(Math(cn))\n",
    "# C(n) = (n-1+1) + (n-2+1) + (n-3+1) + .. + (n-n+1) ==> jawabannya\n",
    "# koding disini .."
   ]
  },
  {
   "cell_type": "code",
   "execution_count": 3,
   "metadata": {
    "scrolled": true
   },
   "outputs": [
    {
     "data": {
      "text/latex": [
       "$\\displaystyle \\begin{align} \\label{eq:gps_to_cartesian} \\\n",
       "C(n) & = \\sum_{j = i+1}^{n-1} 1 \\\\ \\\n",
       "\\end{align}$"
      ],
      "text/plain": [
       "<IPython.core.display.Math object>"
      ]
     },
     "metadata": {},
     "output_type": "display_data"
    },
    {
     "name": "stdout",
     "output_type": "stream",
     "text": [
      "-----------------------\n"
     ]
    },
    {
     "data": {
      "text/latex": [
       "$\\displaystyle \\begin{align} \\label{eq:gps_to_cartesian} \\\n",
       "C(n) & = \\sum_{j = i+1}^{n-1} 1 \\\\ \\\n",
       "     & = \\sum_{j = i+1-i}^{n-1-i} 1 \\\\ \\\n",
       "     & = \\sum_{j = 1}^{n-1-i} 1 \\\\ \\\n",
       "     & = (n-1-i)*1 \\\\ \\\n",
       "     & = (n-1-i) \\\\ \\\n",
       "\\end{align}$"
      ],
      "text/plain": [
       "<IPython.core.display.Math object>"
      ]
     },
     "metadata": {},
     "output_type": "display_data"
    }
   ],
   "source": [
    "# Soal 5: Coba cn uraian menjadi seperti cn2\n",
    "# cek terlebih dahulu, apakah di dalam sigma ada indeks yg sedang dijalankan,\n",
    "# lalu, lakukan otomasi modifikasi batas bawah dan batas atas, lalu sederhanakan\n",
    "from IPython.display import display, Math, Latex\n",
    "\n",
    "cn = r'\\begin{align} \\label{eq:gps_to_cartesian} \\\n",
    "C(n) & = \\sum_{j = i+1}^{n-1} 1 \\\\ \\\n",
    "\\end{align}'\n",
    "\n",
    "#print(cn)\n",
    "display(Math(cn))\n",
    "\n",
    "print('-----------------------')\n",
    "\n",
    "cn2 = r'\\begin{align} \\label{eq:gps_to_cartesian} \\\n",
    "C(n) & = \\sum_{j = i+1}^{n-1} 1 \\\\ \\\n",
    "     & = \\sum_{j = i+1-i}^{n-1-i} 1 \\\\ \\\n",
    "     & = \\sum_{j = 1}^{n-1-i} 1 \\\\ \\\n",
    "     & = (n-1-i)*1 \\\\ \\\n",
    "     & = (n-1-i) \\\\ \\\n",
    "\\end{align}'\n",
    "\n",
    "#print(cn2)\n",
    "display(Math(cn2))\n",
    "\n",
    "# koding disini\n",
    "# .."
   ]
  },
  {
   "cell_type": "code",
   "execution_count": 16,
   "metadata": {},
   "outputs": [
    {
     "name": "stdout",
     "output_type": "stream",
     "text": [
      "C(n) = \\sum_{i = 0}^{n-2} (n-1-i)\n"
     ]
    },
    {
     "data": {
      "text/latex": [
       "$\\displaystyle C(n) = \\sum_{i = 0}^{n-2} (n-1-i)$"
      ],
      "text/plain": [
       "<IPython.core.display.Math object>"
      ]
     },
     "metadata": {},
     "output_type": "display_data"
    }
   ],
   "source": [
    "# Soal 6: Coba uraian menjadi \n",
    "from IPython.display import display, Math, Latex\n",
    "cn = 'C(n) = \\sum_{i = 0}^{n-2} (n-1-i)'\n",
    "print(cn)\n",
    "display(Math(cn))\n",
    "# C(n) = (n-1-0) + (n-1-1) + (n-1-2) + .. + (n-1-(n-2)) ==> jawabannya\n",
    "# koding disini .."
   ]
  },
  {
   "cell_type": "code",
   "execution_count": null,
   "metadata": {},
   "outputs": [],
   "source": []
  }
 ],
 "metadata": {
  "kernelspec": {
   "display_name": "Python 3",
   "language": "python",
   "name": "python3"
  },
  "language_info": {
   "codemirror_mode": {
    "name": "ipython",
    "version": 3
   },
   "file_extension": ".py",
   "mimetype": "text/x-python",
   "name": "python",
   "nbconvert_exporter": "python",
   "pygments_lexer": "ipython3",
   "version": "3.6.9"
  }
 },
 "nbformat": 4,
 "nbformat_minor": 2
}
